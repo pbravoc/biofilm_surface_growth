{
 "cells": [
  {
   "cell_type": "code",
   "execution_count": 1,
   "source": [
    "using DataFrames, NPZ, Arrow, JLD2\n",
    "using Statistics, NaNMath"
   ],
   "outputs": [],
   "metadata": {}
  },
  {
   "cell_type": "code",
   "execution_count": 2,
   "source": [
    "Df = jldopen(\"data/timelapses/profile_database.jld2\", \"r\")[\"df\"];\n"
   ],
   "outputs": [
    {
     "output_type": "stream",
     "name": "stderr",
     "text": [
      "┌ Warning: Opening file with JLD2.MmapIO failed, falling back to IOStream\n",
      "└ @ JLD2 /home/pablo/.julia/packages/JLD2/VHRWL/src/JLD2.jl:230\n"
     ]
    },
    {
     "output_type": "error",
     "ename": "LoadError",
     "evalue": "SystemError: opening file \"data/timelapses/profile_database.jld2\": No such file or directory",
     "traceback": [
      "SystemError: opening file \"data/timelapses/profile_database.jld2\": No such file or directory",
      "",
      "Stacktrace:",
      "  [1] systemerror(p::String, errno::Int32; extrainfo::Nothing)",
      "    @ Base ./error.jl:168",
      "  [2] #systemerror#62",
      "    @ ./error.jl:167 [inlined]",
      "  [3] systemerror",
      "    @ ./error.jl:167 [inlined]",
      "  [4] open(fname::String; lock::Bool, read::Bool, write::Bool, create::Bool, truncate::Bool, append::Bool)",
      "    @ Base ./iostream.jl:293",
      "  [5] openfile",
      "    @ ~/.julia/packages/JLD2/VHRWL/src/JLD2.jl:220 [inlined]",
      "  [6] openfile(T::Type, fname::String, wr::Bool, create::Bool, truncate::Bool, fallback::Type)",
      "    @ JLD2 ~/.julia/packages/JLD2/VHRWL/src/JLD2.jl:231",
      "  [7] jldopen(fname::String, wr::Bool, create::Bool, truncate::Bool, iotype::Type{JLD2.MmapIO}; fallback::Type{IOStream}, compress::Bool, mmaparrays::Bool)",
      "    @ JLD2 ~/.julia/packages/JLD2/VHRWL/src/JLD2.jl:286",
      "  [8] jldopen(fname::String, wr::Bool, create::Bool, truncate::Bool, iotype::Type{JLD2.MmapIO})",
      "    @ JLD2 ~/.julia/packages/JLD2/VHRWL/src/JLD2.jl:249",
      "  [9] jldopen(fname::String, mode::String; iotype::Type, kwargs::Base.Iterators.Pairs{Union{}, Union{}, Tuple{}, NamedTuple{(), Tuple{}}})",
      "    @ JLD2 ~/.julia/packages/JLD2/VHRWL/src/JLD2.jl:342",
      " [10] jldopen(fname::String, mode::String)",
      "    @ JLD2 ~/.julia/packages/JLD2/VHRWL/src/JLD2.jl:337",
      " [11] top-level scope",
      "    @ In[2]:1",
      " [12] eval",
      "    @ ./boot.jl:360 [inlined]",
      " [13] include_string(mapexpr::typeof(REPL.softscope), mod::Module, code::String, filename::String)",
      "    @ Base ./loading.jl:1116"
     ]
    }
   ],
   "metadata": {}
  },
  {
   "cell_type": "code",
   "execution_count": null,
   "source": [],
   "outputs": [],
   "metadata": {}
  }
 ],
 "metadata": {
  "orig_nbformat": 4,
  "language_info": {
   "file_extension": ".jl",
   "name": "julia",
   "mimetype": "application/julia",
   "version": "1.6.2"
  },
  "kernelspec": {
   "name": "julia-1.6",
   "display_name": "Julia 1.6.2",
   "language": "julia"
  }
 },
 "nbformat": 4,
 "nbformat_minor": 2
}
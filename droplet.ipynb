{
 "cells": [
  {
   "cell_type": "code",
   "execution_count": 2,
   "id": "562dbb3b",
   "metadata": {},
   "outputs": [
    {
     "ename": "ModuleNotFoundError",
     "evalue": "No module named 'biosurf_cpu'",
     "output_type": "error",
     "traceback": [
      "\u001b[0;31m---------------------------------------------------------------------------\u001b[0m",
      "\u001b[0;31mModuleNotFoundError\u001b[0m                       Traceback (most recent call last)",
      "\u001b[0;32m/tmp/ipykernel_3008/3934736834.py\u001b[0m in \u001b[0;36m<module>\u001b[0;34m\u001b[0m\n\u001b[1;32m      1\u001b[0m \u001b[0;32mimport\u001b[0m \u001b[0mnumpy\u001b[0m \u001b[0;32mas\u001b[0m \u001b[0mnp\u001b[0m\u001b[0;34m\u001b[0m\u001b[0;34m\u001b[0m\u001b[0m\n\u001b[1;32m      2\u001b[0m \u001b[0;32mimport\u001b[0m \u001b[0mmatplotlib\u001b[0m\u001b[0;34m.\u001b[0m\u001b[0mpyplot\u001b[0m \u001b[0;32mas\u001b[0m \u001b[0mplt\u001b[0m\u001b[0;34m\u001b[0m\u001b[0;34m\u001b[0m\u001b[0m\n\u001b[0;32m----> 3\u001b[0;31m \u001b[0;32mfrom\u001b[0m \u001b[0mbiosurf_cpu\u001b[0m \u001b[0;32mimport\u001b[0m \u001b[0;34m*\u001b[0m\u001b[0;34m\u001b[0m\u001b[0;34m\u001b[0m\u001b[0m\n\u001b[0m\u001b[1;32m      4\u001b[0m \u001b[0;32mimport\u001b[0m \u001b[0mmatplotlib\u001b[0m\u001b[0;34m\u001b[0m\u001b[0;34m\u001b[0m\u001b[0m\n\u001b[1;32m      5\u001b[0m \u001b[0;32mfrom\u001b[0m \u001b[0mglob\u001b[0m \u001b[0;32mimport\u001b[0m \u001b[0mglob\u001b[0m\u001b[0;34m\u001b[0m\u001b[0;34m\u001b[0m\u001b[0m\n",
      "\u001b[0;31mModuleNotFoundError\u001b[0m: No module named 'biosurf_cpu'"
     ]
    }
   ],
   "source": [
    "import numpy as np \n",
    "import matplotlib.pyplot as plt\n",
    "from biosurf_cpu import *\n",
    "import matplotlib\n",
    "from glob import glob\n",
    "from scipy.signal import savgol_filter\n",
    "import os\n",
    "import warnings; warnings.simplefilter('ignore')\n",
    "from scipy.signal import butter,filtfilt\n",
    "\n",
    "cmap = matplotlib.cm.get_cmap('viridis')\n",
    "\n",
    "def getsurf(file):\n",
    "    \"\"\"Returns a numpy array that is the z-values on each point\"\"\"\n",
    "    myh5 = datx2py(file)\n",
    "    zdata = myh5['Data']['Surface']\n",
    "    zdata = list(zdata.values())[0]\n",
    "    zvals = zdata['vals']\n",
    "    zvals[zvals == zdata['attrs']['No Data']] = np.nan\n",
    "    zmean = np.nanmean(zvals)\n",
    "    return zvals\n",
    "\n",
    "def smoothen(y):\n",
    "    yhat = savgol_filter(y, 151,3)\n",
    "    def nan_helper(y):\n",
    "        return np.isnan(y), lambda z: z.nonzero()[0]\n",
    "    nans, x= nan_helper(yhat)\n",
    "    yhat[nans]= np.interp(x(nans), x(~nans), y[~nans])\n",
    "    return yhat\n",
    "\n",
    "def find_edge(y, v):\n",
    "    g2 = np.abs(np.gradient(y))\n",
    "    #g2 = np.abs(np.gradient(g))\n",
    "    idx = np.argwhere(g2>v)\n",
    "    l = idx[0][0]\n",
    "    h = idx[-1][0]\n",
    "    #l = np.argmax(g2[:int(len(g2)/2)])\n",
    "    #h = np.argmax(g2[int(len(g2)/2):])+int(len(g2)/2)\n",
    "    return l,h\n",
    "\n",
    "def getcleansurf(img):\n",
    "    trad = np.nanmean(img, axis=0)\n",
    "    suma = np.nansum(img, axis=0)\n",
    "    counts = np.sum(~np.isnan(img), axis=0)\n",
    "    counts[counts<40] = 0\n",
    "    f = suma/counts\n",
    "    f[np.isinf(f)] = np.nan\n",
    "    return f\n",
    "\n",
    "def getnewvals(f, l, h, ol, oh):\n",
    "    lowind = np.max(np.argwhere(~np.isinf(f[:l+ol])))\n",
    "    highind = np.min(np.argwhere(~np.isinf(f[h-oh:])))\n",
    "    return lowind, highind+h-(oh-1)\n",
    "\n",
    "def subline(f, offx, offy):\n",
    "    xchange = -len(f)\n",
    "    ychange = (f[0]-offx)-(f[-1]-offy)\n",
    "    xarray = np.arange(len(f))\n",
    "    yarray = straightline(xarray, ychange/xchange, (f[0]-offx))\n",
    "    res = (f-yarray)\n",
    "    return res\n",
    "\n",
    "def subquad(f, offx, offy, offc):\n",
    "    h = len(f)\n",
    "    l = 0\n",
    "    center = int((h-l)/2)\n",
    "    y_low = f[0]-offx\n",
    "    y_center = f[center]-offc\n",
    "    y_high = f[-1]-offy\n",
    "    Y = [y_low, y_center, y_high]\n",
    "    X = [0, center, len(f)]\n",
    "    pfit = np.polyfit(X, Y, 2)\n",
    "    xarray = np.arange(len(f))\n",
    "    yarray = pfit[0]*xarray**2 + pfit[1]*xarray*1 + pfit[2]\n",
    "    res = (f-yarray)\n",
    "    return res\n",
    "  \n",
    "def latres(filepath):\n",
    "    file = datx2py(filepath)\n",
    "    k1 = list(file['Attributes'].keys())[1]\n",
    "    k2 = list(file['Attributes'][k1]['attrs'].keys())[2]\n",
    "    return file['Attributes'][k1]['attrs'][k2]\n"
   ]
  },
  {
   "cell_type": "code",
   "execution_count": 3,
   "id": "4d9f872f",
   "metadata": {},
   "outputs": [
    {
     "name": "stdout",
     "output_type": "stream",
     "text": [
      "\u001b[0m\u001b[01;34mdata\u001b[0m/              height_changes.jl        README.md\r\n",
      "db_creation.jl     height_saturation.ipynb  shape_fitting.ipynb\r\n",
      "diffeqflux_fit.jl  LICENSE                  spatial_growth.jl\r\n",
      "droplet.ipynb      model_fitting.jl         surface_functions.jl\r\n",
      "\u001b[01;34mfigs\u001b[0m/              models_comparison.ipynb  two_interface.jl\r\n"
     ]
    }
   ],
   "source": [
    "ls"
   ]
  },
  {
   "cell_type": "code",
   "execution_count": null,
   "id": "54812d64",
   "metadata": {},
   "outputs": [],
   "source": []
  }
 ],
 "metadata": {
  "kernelspec": {
   "display_name": "Python 3 (ipykernel)",
   "language": "python",
   "name": "python3"
  },
  "language_info": {
   "codemirror_mode": {
    "name": "ipython",
    "version": 3
   },
   "file_extension": ".py",
   "mimetype": "text/x-python",
   "name": "python",
   "nbconvert_exporter": "python",
   "pygments_lexer": "ipython3",
   "version": "3.10.1"
  }
 },
 "nbformat": 4,
 "nbformat_minor": 5
}
